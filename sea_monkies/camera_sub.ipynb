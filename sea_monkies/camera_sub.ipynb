{
 "cells": [
  {
   "cell_type": "code",
   "execution_count": null,
   "metadata": {},
   "outputs": [],
   "source": [
    "#!/usr/bin/env python\n",
    "\n",
    "import rclpy\n",
    "from rclpy.node import Node\n",
    "from sensor_msgs.msg import Image\n",
    "from cv_bridge import CvBridge\n",
    "\n",
    "import cv2\n",
    "\n",
    "\n",
    "class ImageSubscriber(Node):\n",
    "    def __init__(self):\n",
    "        super().__init__(\"image_subscriber\")\n",
    "\n",
    "        self.cvb = CvBridge()\n",
    "\n",
    "        self.subscription = self.create_subscription(\n",
    "            Image, \"bluerov2/camera\", self.image_callback, 10\n",
    "        )\n",
    "\n",
    "    def image_callback(self, msg: Image):\n",
    "        \"\"\"\n",
    "        Callback function for the image subscriber.\n",
    "        It receives an image message and saves it.\n",
    "\n",
    "        Args:\n",
    "            msg (Image): The image message\n",
    "        \"\"\"\n",
    "        # Convert Image message to OpenCV image\n",
    "        image = self.cvb.imgmsg_to_cv2(msg)\n",
    "\n",
    "        # Save the image\n",
    "        cv2.imwrite(\"image.png\", image)\n",
    "\n",
    "\n",
    "def main(args=None):\n",
    "    rclpy.init(args=args)\n",
    "    image_subscriber = ImageSubscriber()\n",
    "\n",
    "    try:\n",
    "        rclpy.spin(image_subscriber)\n",
    "    except KeyboardInterrupt:\n",
    "        pass\n",
    "    finally:\n",
    "        image_subscriber.destroy_node()\n",
    "        rclpy.try_shutdown()\n",
    "\n",
    "\n",
    "if __name__ == \"__main__\":\n",
    "    main()"
   ]
  }
 ],
 "metadata": {
  "language_info": {
   "name": "python"
  }
 },
 "nbformat": 4,
 "nbformat_minor": 2
}
